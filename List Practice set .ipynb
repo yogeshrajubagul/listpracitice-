{
 "cells": [
  {
   "cell_type": "markdown",
   "id": "5d38f501",
   "metadata": {},
   "source": [
    "# List Practice set project \n"
   ]
  },
  {
   "cell_type": "markdown",
   "id": "8d283700",
   "metadata": {},
   "source": [
    "What is a list in Python?\n",
    "\n",
    "a list is a built-in data structure that allows you to store and organize a collection of items in a single object."
   ]
  },
  {
   "cell_type": "code",
   "execution_count": 1,
   "id": "41e4889b",
   "metadata": {},
   "outputs": [],
   "source": [
    "# How do you create an empty list in Python?\n",
    "my_list = []\n",
    "my_list = list()"
   ]
  },
  {
   "cell_type": "code",
   "execution_count": 2,
   "id": "47f2458f",
   "metadata": {},
   "outputs": [
    {
     "name": "stdout",
     "output_type": "stream",
     "text": [
      "[1, 2, 3, 4]\n"
     ]
    }
   ],
   "source": [
    "# How do you add an element to a list in Python?\n",
    "# insert() append()\n",
    "my_list = [1, 2, 3]\n",
    "my_list.append(4)\n",
    "print(my_list)"
   ]
  },
  {
   "cell_type": "code",
   "execution_count": 3,
   "id": "05b55664",
   "metadata": {},
   "outputs": [
    {
     "name": "stdout",
     "output_type": "stream",
     "text": [
      "apple\n",
      "date\n",
      "cherry\n"
     ]
    }
   ],
   "source": [
    "# How do you access elements in a list in Python?\n",
    "my_list = ['apple', 'banana', 'cherry', 'date']\n",
    "\n",
    "# Accessing the first element using positive index\n",
    "print(my_list[0])    # Output: 'apple'\n",
    "\n",
    "# Accessing the last element using negative index\n",
    "print(my_list[-1])   # Output: 'date'\n",
    "\n",
    "# Accessing an element using a variable as index\n",
    "index = 2\n",
    "print(my_list[index])    # Output: 'cherry'"
   ]
  },
  {
   "cell_type": "markdown",
   "id": "07f10444",
   "metadata": {},
   "source": [
    "Write a program that accepts a list from the user and print the alternate element of the list."
   ]
  },
  {
   "cell_type": "code",
   "execution_count": 4,
   "id": "2d6cd7a1",
   "metadata": {},
   "outputs": [
    {
     "name": "stdout",
     "output_type": "stream",
     "text": [
      "Enter a list of elements: 4\n",
      "4\n"
     ]
    }
   ],
   "source": [
    "lst = input(\"Enter a list of elements: \").split()\n",
    "for i in range(0, len(lst), 2):\n",
    "    print(lst[i])"
   ]
  },
  {
   "cell_type": "markdown",
   "id": "7abe7b80",
   "metadata": {},
   "source": [
    " Write a python program to input a list of strings, return the maximum length of strings entered."
   ]
  },
  {
   "cell_type": "code",
   "execution_count": 5,
   "id": "0254222b",
   "metadata": {},
   "outputs": [
    {
     "name": "stdout",
     "output_type": "stream",
     "text": [
      "The maximum length of strings entered is 11\n"
     ]
    }
   ],
   "source": [
    "def max_string_length(strings):\n",
    "    max_length = 0\n",
    "    for string in strings:\n",
    "        if len(string) > max_length:\n",
    "            max_length = len(string)\n",
    "    return max_length\n",
    "string_list = [\"Hello\", \"World\", \"Python\", \"Programming\"]\n",
    "max_length = max_string_length(string_list)\n",
    "print(f\"The maximum length of strings entered is {max_length}\")"
   ]
  },
  {
   "cell_type": "markdown",
   "id": "68819f44",
   "metadata": {},
   "source": [
    "Write a program that rotates the element of a list so that the element at the first index moves to the second index, the element in the second index moves to the third index, etc., and the element in the last index moves to the first index."
   ]
  },
  {
   "cell_type": "code",
   "execution_count": 6,
   "id": "62070fb6",
   "metadata": {},
   "outputs": [
    {
     "name": "stdout",
     "output_type": "stream",
     "text": [
      "[5, 1, 2, 3, 4]\n"
     ]
    }
   ],
   "source": [
    "def rotate_list(lst):\n",
    "    last_elem = lst[-1]\n",
    "    for i in range(len(lst)-1, 0, -1):\n",
    "        lst[i] = lst[i-1]\n",
    "    lst[0] = last_elem\n",
    "    return lst\n",
    "my_list = [1, 2, 3, 4, 5]\n",
    "rotated_list = rotate_list(my_list)\n",
    "print(rotated_list)"
   ]
  },
  {
   "cell_type": "markdown",
   "id": "4f3306b6",
   "metadata": {},
   "source": [
    "Find the sum of each row of matrix of size m x n. For example for the following matrix output will be like this :\n",
    "Sum of row 1 = 32\n",
    "Sum of row 2 = 31\n",
    "Sum of row 3 = 63"
   ]
  },
  {
   "cell_type": "code",
   "execution_count": 7,
   "id": "d113fdfc",
   "metadata": {},
   "outputs": [],
   "source": [
    "def sum_rows(matrix):\n",
    "    for i in range(len(matrix)):\n",
    "        row_sum = sum(matrix[i])\n",
    "        print(f\"Sum of row {i+1} = {row_sum}\")"
   ]
  },
  {
   "cell_type": "markdown",
   "id": "105c0cf6",
   "metadata": {},
   "source": [
    "Write a program to add two matrices of size n x m"
   ]
  },
  {
   "cell_type": "code",
   "execution_count": 8,
   "id": "bab17677",
   "metadata": {},
   "outputs": [],
   "source": [
    "def matrix_addition(matrix1, matrix2):\n",
    "    result = []\n",
    "    for i in range(len(matrix1)):\n",
    "        row = []\n",
    "        for j in range(len(matrix1[0])):\n",
    "            row.append(matrix1[i][j] + matrix2[i][j])\n",
    "        result.append(row)\n",
    "    return result"
   ]
  },
  {
   "cell_type": "markdown",
   "id": "060d3afb",
   "metadata": {},
   "source": [
    "Write a program to multiply two matrices."
   ]
  },
  {
   "cell_type": "code",
   "execution_count": 9,
   "id": "52dc03b6",
   "metadata": {},
   "outputs": [],
   "source": [
    "def matrix_multiplication(matrix1, matrix2):\n",
    "    result = []\n",
    "    for i in range(len(matrix1)):\n",
    "        row = []\n",
    "        for j in range(len(matrix2[0])):\n",
    "            sum = 0\n",
    "            for k in range(len(matrix2)):\n",
    "                sum += matrix1[i][k] * matrix2[k][j]\n",
    "            row.append(sum)\n",
    "        result.append(row)\n",
    "    return result"
   ]
  },
  {
   "cell_type": "markdown",
   "id": "4cfe64c0",
   "metadata": {},
   "source": [
    "Given an unsorted list A of size N that contains only non-negative integers, find a continuous sub-list which adds to a given number S.\n",
    "In case of multiple sub-lists, return the sub-list which comes first on moving from left to right."
   ]
  },
  {
   "cell_type": "code",
   "execution_count": 10,
   "id": "c1b513bb",
   "metadata": {},
   "outputs": [],
   "source": [
    "def find_sublist(A, S):\n",
    "    start = 0\n",
    "    end = 0\n",
    "    N = len(A)\n",
    "    sum = 0\n",
    "    while end < N:\n",
    "        if sum < S:\n",
    "            sum += A[end]\n",
    "            end += 1\n",
    "        elif sum >= S:\n",
    "            sum -= A[start]\n",
    "            start += 1\n",
    "        if sum == S:\n",
    "            return A[start:end]\n",
    "    return []"
   ]
  },
  {
   "cell_type": "markdown",
   "id": "dc25b1f1",
   "metadata": {},
   "source": [
    "Find missing numbers in a sorted list range."
   ]
  },
  {
   "cell_type": "code",
   "execution_count": 11,
   "id": "d5b8e28e",
   "metadata": {},
   "outputs": [
    {
     "name": "stdout",
     "output_type": "stream",
     "text": [
      "[8, 3, 5]\n"
     ]
    }
   ],
   "source": [
    "def find_missing_numbers(lst):\n",
    "    # get the range of the list\n",
    "    start = lst[0]\n",
    "    end = lst[-1]\n",
    "\n",
    "    # create a set of the list\n",
    "    nums = set(lst)\n",
    "\n",
    "    # create a set of the full range\n",
    "    full_range = set(range(start, end+1))\n",
    "\n",
    "    # find the missing numbers\n",
    "    missing_numbers = list(full_range - nums)\n",
    "\n",
    "    return missing_numbers\n",
    "\n",
    "# Example usage\n",
    "lst = [1, 2, 4, 6, 7, 9]\n",
    "missing = find_missing_numbers(lst)\n",
    "print(missing)"
   ]
  },
  {
   "cell_type": "markdown",
   "id": "d8505dee",
   "metadata": {},
   "source": [
    "Given a list of positive integers. Find the length of the longest sub-sequence such that elements in the subsequence are consecutive integers, the consecutive numbers can be in any order."
   ]
  },
  {
   "cell_type": "code",
   "execution_count": 12,
   "id": "51a3d5cd",
   "metadata": {},
   "outputs": [
    {
     "name": "stdout",
     "output_type": "stream",
     "text": [
      "4\n"
     ]
    }
   ],
   "source": [
    "def longest_consecutive_subsequence(lst):\n",
    "    nums = set(lst)\n",
    "    longest_sequence = 0\n",
    "\n",
    "    for num in nums:\n",
    "        if num-1 not in nums:\n",
    "            current_sequence = 1\n",
    "            current_num = num\n",
    "\n",
    "            while current_num + 1 in nums:\n",
    "                current_sequence += 1\n",
    "                current_num += 1\n",
    "\n",
    "            longest_sequence = max(longest_sequence, current_sequence)\n",
    "\n",
    "    return longest_sequence\n",
    "\n",
    "# Example usage\n",
    "lst = [1, 9, 3, 10, 4, 20, 2]\n",
    "length = longest_consecutive_subsequence(lst)\n",
    "print(length)"
   ]
  },
  {
   "cell_type": "markdown",
   "id": "753effb3",
   "metadata": {},
   "source": [
    "Concatenate every element across lists using list comprehension"
   ]
  },
  {
   "cell_type": "code",
   "execution_count": 13,
   "id": "1dad45b6",
   "metadata": {},
   "outputs": [
    {
     "name": "stdout",
     "output_type": "stream",
     "text": [
      "['a', 'b', 'c', 'd', 'e', 'f', 'g', 'h', 'i']\n"
     ]
    }
   ],
   "source": [
    "lists = [['a', 'b'], ['c', 'd', 'e'], ['f', 'g', 'h', 'i']]\n",
    "concatenated = [element for sub_list in lists for element in sub_list]\n",
    "print(concatenated)"
   ]
  },
  {
   "cell_type": "markdown",
   "id": "565aa315",
   "metadata": {},
   "source": [
    "Count occurrence of repeated element in list"
   ]
  },
  {
   "cell_type": "code",
   "execution_count": 14,
   "id": "d8785b74",
   "metadata": {},
   "outputs": [
    {
     "name": "stdout",
     "output_type": "stream",
     "text": [
      "{2: 2, 5: 2}\n"
     ]
    }
   ],
   "source": [
    "def count_repeated_elements(lst):\n",
    "    counts = {}\n",
    "    for element in lst:\n",
    "        if element in counts:\n",
    "            counts[element] += 1\n",
    "        else:\n",
    "            counts[element] = 1\n",
    "    repeated_elements = {k: v for k, v in counts.items() if v > 1}\n",
    "    return repeated_elements\n",
    "lst = [2, 5, 7, 2, 4, 5, 8, 9, 1]\n",
    "repeated_elements = count_repeated_elements(lst)\n",
    "print(repeated_elements)"
   ]
  },
  {
   "cell_type": "markdown",
   "id": "60582c5a",
   "metadata": {},
   "source": [
    "Reverse a List using slice."
   ]
  },
  {
   "cell_type": "code",
   "execution_count": 15,
   "id": "6cce3131",
   "metadata": {},
   "outputs": [
    {
     "name": "stdout",
     "output_type": "stream",
     "text": [
      "[5, 4, 9, 7, 5, 2]\n"
     ]
    }
   ],
   "source": [
    "def reverse_list(lst):\n",
    "    return lst[::-1]\n",
    "\n",
    "# Example usage\n",
    "lst = [2, 5, 7, 9, 4, 5]\n",
    "reversed_lst = reverse_list(lst)\n",
    "print(reversed_lst)\n"
   ]
  },
  {
   "cell_type": "markdown",
   "id": "33b7f9ad",
   "metadata": {},
   "source": [
    "Given a list of N integers, and an integer K, find the number of pairs of elements in the array whose sum is equal to K."
   ]
  },
  {
   "cell_type": "code",
   "execution_count": 16,
   "id": "6c7899af",
   "metadata": {},
   "outputs": [
    {
     "name": "stdout",
     "output_type": "stream",
     "text": [
      "Number of pairs with sum 9: 3\n"
     ]
    }
   ],
   "source": [
    "def count_pairs_with_sum(lst, K):\n",
    "    count = 0\n",
    "    seen = set()\n",
    "    for element in lst:\n",
    "        target = K - element\n",
    "        if target in seen:\n",
    "            count += 1\n",
    "        seen.add(element)\n",
    "    return count\n",
    "lst = [2, 5, 7, 9, 4, 5]\n",
    "K = 9\n",
    "pair_count = count_pairs_with_sum(lst, K)\n",
    "print(f\"Number of pairs with sum {K}: {pair_count}\")"
   ]
  },
  {
   "cell_type": "markdown",
   "id": "0b82962f",
   "metadata": {},
   "source": [
    "Python program to compare two equal sized list and print the first index where they differ"
   ]
  },
  {
   "cell_type": "code",
   "execution_count": 17,
   "id": "bba7ae72",
   "metadata": {},
   "outputs": [
    {
     "name": "stdout",
     "output_type": "stream",
     "text": [
      "First difference at index 3\n"
     ]
    }
   ],
   "source": [
    "def find_first_difference(lst1, lst2):\n",
    "    for i in range(len(lst1)):\n",
    "        if lst1[i] != lst2[i]:\n",
    "            return i\n",
    "    return -1  # Lists are identical\n",
    "lst1 = [2, 5, 7, 9, 4, 5]\n",
    "lst2 = [2, 5, 7, 8, 4, 5]\n",
    "first_difference_index = find_first_difference(lst1, lst2)\n",
    "if first_difference_index == -1:\n",
    "    print(\"Lists are identical\")\n",
    "else:\n",
    "    print(f\"First difference at index {first_difference_index}\")"
   ]
  },
  {
   "cell_type": "markdown",
   "id": "71427bd1",
   "metadata": {},
   "source": [
    "Find out the first repeating element in a list"
   ]
  },
  {
   "cell_type": "code",
   "execution_count": 18,
   "id": "febef53e",
   "metadata": {},
   "outputs": [],
   "source": [
    "def find_first_repeating_element(lst):\n",
    "    seen = set()\n",
    "    for element in lst:\n",
    "        if element in seen:\n",
    "            return element\n",
    "        seen.add(element)\n",
    "    return None"
   ]
  },
  {
   "cell_type": "code",
   "execution_count": 19,
   "id": "b446da89",
   "metadata": {},
   "outputs": [],
   "source": [
    " # What is slicing in Python?\n",
    "my_list = [1, 2, 3, 4, 5]\n",
    "slice = my_list[0:3]"
   ]
  },
  {
   "cell_type": "code",
   "execution_count": 20,
   "id": "e16a6dd0",
   "metadata": {},
   "outputs": [],
   "source": [
    "#list function reverse()"
   ]
  },
  {
   "cell_type": "code",
   "execution_count": 21,
   "id": "7c6d519b",
   "metadata": {},
   "outputs": [
    {
     "name": "stdout",
     "output_type": "stream",
     "text": [
      "[500, 400, 300, 200, 100]\n"
     ]
    }
   ],
   "source": [
    "list1 = [100, 200, 300, 400, 500]\n",
    "list1.reverse()\n",
    "print(list1)"
   ]
  },
  {
   "cell_type": "code",
   "execution_count": 22,
   "id": "7748eaa3",
   "metadata": {},
   "outputs": [
    {
     "name": "stdout",
     "output_type": "stream",
     "text": [
      "['My', 'name', 'is', 'Kelly']\n"
     ]
    }
   ],
   "source": [
    "# Use the zip() function. This function takes two or more iterables (like list, dict, string), aggregates them in a tuple, and returns it.\n",
    "list1 = [\"M\", \"na\", \"i\", \"Ke\"] \n",
    "list2 = [\"y\", \"me\", \"s\", \"lly\"]\n",
    "list3 = [i + j for i, j in zip(list1, list2)]\n",
    "print(list3)"
   ]
  },
  {
   "cell_type": "markdown",
   "id": "cc3428fe",
   "metadata": {},
   "source": [
    "Create an empty result list\n",
    "Iterate a numbers list using a loop\n",
    "In each iteration, calculate the square of a current number and add it to the result list using the append() method."
   ]
  },
  {
   "cell_type": "code",
   "execution_count": 23,
   "id": "c5e3cec1",
   "metadata": {},
   "outputs": [
    {
     "name": "stdout",
     "output_type": "stream",
     "text": [
      "[1, 4, 9, 16, 25, 36, 49]\n"
     ]
    }
   ],
   "source": [
    "numbers = [1, 2, 3, 4, 5, 6, 7]\n",
    "# result list\n",
    "res = []\n",
    "for i in numbers:\n",
    "    # calculate square and add to the result list\n",
    "    res.append(i * i)\n",
    "print(res)"
   ]
  },
  {
   "cell_type": "code",
   "execution_count": 24,
   "id": "0894b3a1",
   "metadata": {},
   "outputs": [],
   "source": [
    "# Use list comprehension"
   ]
  },
  {
   "cell_type": "code",
   "execution_count": 25,
   "id": "c1ad6916",
   "metadata": {},
   "outputs": [
    {
     "name": "stdout",
     "output_type": "stream",
     "text": [
      "['Hello Dear', 'Hello Sir', 'take Dear', 'take Sir']\n"
     ]
    }
   ],
   "source": [
    "list1 = [\"Hello \", \"take \"]\n",
    "list2 = [\"Dear\", \"Sir\"]\n",
    "\n",
    "res = [x + y for x in list1 for y in list2]\n",
    "print(res)"
   ]
  },
  {
   "cell_type": "markdown",
   "id": "938a9171",
   "metadata": {},
   "source": [
    "remove empty strings from the list of strings"
   ]
  },
  {
   "cell_type": "code",
   "execution_count": 26,
   "id": "d56aace8",
   "metadata": {},
   "outputs": [
    {
     "name": "stdout",
     "output_type": "stream",
     "text": [
      "['Mike', 'Emma', 'Kelly', 'Brad']\n"
     ]
    }
   ],
   "source": [
    "list1 = [\"Mike\", \"\", \"Emma\", \"Kelly\", \"\", \"Brad\"]\n",
    "\n",
    "# remove None from list1 and convert result into list\n",
    "res = list(filter(None, list1))\n",
    "print(res)"
   ]
  },
  {
   "cell_type": "markdown",
   "id": "a3976671",
   "metadata": {},
   "source": [
    "Extend nested list by adding the sublist"
   ]
  },
  {
   "cell_type": "code",
   "execution_count": 27,
   "id": "6422cabb",
   "metadata": {},
   "outputs": [
    {
     "name": "stdout",
     "output_type": "stream",
     "text": [
      "['a', 'b', ['c', ['d', 'e', ['f', 'g', 'h', 'i', 'j'], 'k'], 'l'], 'm', 'n']\n"
     ]
    }
   ],
   "source": [
    "list1 = [\"a\", \"b\", [\"c\", [\"d\", \"e\", [\"f\", \"g\"], \"k\"], \"l\"], \"m\", \"n\"]\n",
    "sub_list = [\"h\", \"i\", \"j\"]\n",
    "\n",
    "# understand indexing\n",
    "# list1[2] = ['c', ['d', 'e', ['f', 'g'], 'k'], 'l']\n",
    "# list1[2][1] = ['d', 'e', ['f', 'g'], 'k']\n",
    "# list1[2][1][2] = ['f', 'g']\n",
    "\n",
    "# solution\n",
    "list1[2][1][2].extend(sub_list)\n",
    "print(list1)"
   ]
  },
  {
   "cell_type": "markdown",
   "id": "095d2011",
   "metadata": {},
   "source": [
    "Replace list’s item with new value if found"
   ]
  },
  {
   "cell_type": "code",
   "execution_count": 28,
   "id": "4d37e515",
   "metadata": {},
   "outputs": [
    {
     "name": "stdout",
     "output_type": "stream",
     "text": [
      "[5, 10, 15, 200, 25, 50, 20]\n"
     ]
    }
   ],
   "source": [
    "list1 = [5, 10, 15, 20, 25, 50, 20]\n",
    "\n",
    "# get the first occurrence index\n",
    "index = list1.index(20)\n",
    "\n",
    "# updat+e item present at location\n",
    "list1[index] = 200\n",
    "print(list1)"
   ]
  },
  {
   "cell_type": "markdown",
   "id": "37fadbb1",
   "metadata": {},
   "source": [
    "Remove all occurrences of a specific item from a list."
   ]
  },
  {
   "cell_type": "code",
   "execution_count": 29,
   "id": "d7935003",
   "metadata": {},
   "outputs": [
    {
     "name": "stdout",
     "output_type": "stream",
     "text": [
      "[5, 15, 25, 50]\n"
     ]
    }
   ],
   "source": [
    "list1 = [5, 20, 15, 20, 25, 50, 20]\n",
    "# list comprehension\n",
    "# remove specific items and return a new list\n",
    "def remove_value(sample_list, val):\n",
    "    return [i for i in sample_list if i != val]\n",
    "res = remove_value(list1, 20)\n",
    "print(res)"
   ]
  },
  {
   "cell_type": "code",
   "execution_count": 30,
   "id": "fd5a89c2",
   "metadata": {},
   "outputs": [
    {
     "name": "stdout",
     "output_type": "stream",
     "text": [
      "[5, 15, 25, 50]\n"
     ]
    }
   ],
   "source": [
    "# While loop meth\n",
    "list1 = [5, 20, 15, 20, 25, 50, 20]\n",
    "while 20 in list1:\n",
    "    list1.remove(20)\n",
    "print(list1)"
   ]
  },
  {
   "cell_type": "code",
   "execution_count": 32,
   "id": "ecaa400a",
   "metadata": {},
   "outputs": [],
   "source": []
  },
  {
   "cell_type": "code",
   "execution_count": null,
   "id": "0f0a50e2",
   "metadata": {},
   "outputs": [],
   "source": []
  }
 ],
 "metadata": {
  "kernelspec": {
   "display_name": "Python 3 (ipykernel)",
   "language": "python",
   "name": "python3"
  },
  "language_info": {
   "codemirror_mode": {
    "name": "ipython",
    "version": 3
   },
   "file_extension": ".py",
   "mimetype": "text/x-python",
   "name": "python",
   "nbconvert_exporter": "python",
   "pygments_lexer": "ipython3",
   "version": "3.9.13"
  }
 },
 "nbformat": 4,
 "nbformat_minor": 5
}
